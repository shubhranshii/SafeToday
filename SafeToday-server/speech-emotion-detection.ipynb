{
 "cells": [
  {
   "cell_type": "code",
   "execution_count": 1,
   "metadata": {},
   "outputs": [
    {
     "name": "stdout",
     "output_type": "stream",
     "text": [
      "Requirement already satisfied: keras in /Users/hp/anaconda3/lib/python3.11/site-packages (3.5.0)\n",
      "Requirement already satisfied: absl-py in /Users/hp/anaconda3/lib/python3.11/site-packages (from keras) (2.1.0)\n",
      "Requirement already satisfied: numpy in /Users/hp/anaconda3/lib/python3.11/site-packages (from keras) (1.24.3)\n",
      "Requirement already satisfied: rich in /Users/hp/anaconda3/lib/python3.11/site-packages (from keras) (13.7.0)\n",
      "Requirement already satisfied: namex in /Users/hp/anaconda3/lib/python3.11/site-packages (from keras) (0.0.8)\n",
      "Requirement already satisfied: h5py in /Users/hp/anaconda3/lib/python3.11/site-packages (from keras) (3.11.0)\n",
      "Requirement already satisfied: optree in /Users/hp/anaconda3/lib/python3.11/site-packages (from keras) (0.12.1)\n",
      "Requirement already satisfied: ml-dtypes in /Users/hp/anaconda3/lib/python3.11/site-packages (from keras) (0.4.1)\n",
      "Requirement already satisfied: packaging in /Users/hp/anaconda3/lib/python3.11/site-packages (from keras) (23.1)\n",
      "Requirement already satisfied: typing-extensions>=4.5.0 in /Users/hp/anaconda3/lib/python3.11/site-packages (from optree->keras) (4.9.0)\n",
      "Requirement already satisfied: markdown-it-py>=2.2.0 in /Users/hp/anaconda3/lib/python3.11/site-packages (from rich->keras) (2.2.0)\n",
      "Requirement already satisfied: pygments<3.0.0,>=2.13.0 in /Users/hp/anaconda3/lib/python3.11/site-packages (from rich->keras) (2.15.1)\n",
      "Requirement already satisfied: mdurl~=0.1 in /Users/hp/anaconda3/lib/python3.11/site-packages (from markdown-it-py>=2.2.0->rich->keras) (0.1.0)\n",
      "\n",
      "\u001b[1m[\u001b[0m\u001b[34;49mnotice\u001b[0m\u001b[1;39;49m]\u001b[0m\u001b[39;49m A new release of pip is available: \u001b[0m\u001b[31;49m24.0\u001b[0m\u001b[39;49m -> \u001b[0m\u001b[32;49m24.3.1\u001b[0m\n",
      "\u001b[1m[\u001b[0m\u001b[34;49mnotice\u001b[0m\u001b[1;39;49m]\u001b[0m\u001b[39;49m To update, run: \u001b[0m\u001b[32;49mpip install --upgrade pip\u001b[0m\n"
     ]
    }
   ],
   "source": [
    "!pip install keras\n"
   ]
  },
  {
   "cell_type": "code",
   "execution_count": 2,
   "metadata": {
    "_cell_guid": "b1076dfc-b9ad-4769-8c92-a6c4dae69d19",
    "_uuid": "8f2839f25d086af736a60e9eeb907d3b93b6e0e5",
    "execution": {
     "iopub.execute_input": "2021-01-17T05:37:27.580419Z",
     "iopub.status.busy": "2021-01-17T05:37:27.579746Z",
     "iopub.status.idle": "2021-01-17T05:37:33.938773Z",
     "shell.execute_reply": "2021-01-17T05:37:33.937682Z"
    },
    "papermill": {
     "duration": 6.381137,
     "end_time": "2021-01-17T05:37:33.938904",
     "exception": false,
     "start_time": "2021-01-17T05:37:27.557767",
     "status": "completed"
    },
    "tags": []
   },
   "outputs": [],
   "source": [
    "import joblib \n",
    "import tensorflow as tf\n",
    "import numpy as np\n",
    "import os\n",
    "from tqdm import tqdm\n",
    "import librosa\n",
    "import glob\n",
    "#from keras.utils import np_utils\n",
    "from tensorflow import keras\n",
    "#from tensorflow.keras.utils import to_categorical\n",
    "from tensorflow.keras.layers import Activation\n",
    "from tensorflow.keras.activations import gelu\n",
    "from tensorflow.keras.models import Sequential\n",
    "from tensorflow.keras.layers import Conv1D, Activation, MaxPooling1D, Flatten, BatchNormalization, Dense, Dropout\n",
    "from tensorflow.keras.callbacks import ModelCheckpoint, ReduceLROnPlateau\n",
    "from sklearn.model_selection import train_test_split\n",
    "from sklearn.preprocessing import OneHotEncoder\n",
    "from sklearn.preprocessing import LabelEncoder \n",
    "from sklearn.neural_network import MLPClassifier\n",
    "from sklearn.metrics import log_loss, classification_report\n",
    "from tensorflow.keras import backend\n",
    "#import tensorflow_addons as tfa\n",
    "from tensorflow.keras.metrics import Recall"
   ]
  },
  {
   "cell_type": "code",
   "execution_count": 3,
   "metadata": {
    "execution": {
     "iopub.execute_input": "2021-01-17T05:37:33.975656Z",
     "iopub.status.busy": "2021-01-17T05:37:33.974781Z",
     "iopub.status.idle": "2021-01-17T05:37:33.976927Z",
     "shell.execute_reply": "2021-01-17T05:37:33.977845Z"
    },
    "papermill": {
     "duration": 0.02552,
     "end_time": "2021-01-17T05:37:33.978016",
     "exception": false,
     "start_time": "2021-01-17T05:37:33.952496",
     "status": "completed"
    },
    "tags": []
   },
   "outputs": [],
   "source": [
    "from sklearn.svm import SVC\n",
    "from sklearn.preprocessing import StandardScaler"
   ]
  },
  {
   "cell_type": "code",
   "execution_count": 4,
   "metadata": {
    "execution": {
     "iopub.execute_input": "2021-01-17T05:37:34.018107Z",
     "iopub.status.busy": "2021-01-17T05:37:34.017295Z",
     "iopub.status.idle": "2021-01-17T05:37:34.019385Z",
     "shell.execute_reply": "2021-01-17T05:37:34.018777Z"
    },
    "papermill": {
     "duration": 0.02418,
     "end_time": "2021-01-17T05:37:34.019494",
     "exception": false,
     "start_time": "2021-01-17T05:37:33.995314",
     "status": "completed"
    },
    "tags": []
   },
   "outputs": [],
   "source": [
    "DIR= './input/ravdess'"
   ]
  },
  {
   "cell_type": "code",
   "execution_count": 5,
   "metadata": {
    "execution": {
     "iopub.execute_input": "2021-01-17T05:37:34.066226Z",
     "iopub.status.busy": "2021-01-17T05:37:34.065524Z",
     "iopub.status.idle": "2021-01-17T05:37:34.070040Z",
     "shell.execute_reply": "2021-01-17T05:37:34.070982Z"
    },
    "papermill": {
     "duration": 0.034188,
     "end_time": "2021-01-17T05:37:34.071115",
     "exception": false,
     "start_time": "2021-01-17T05:37:34.036927",
     "status": "completed"
    },
    "tags": []
   },
   "outputs": [],
   "source": [
    "def extract_features(file_name, mfcc, chroma, mel):\n",
    "    X, sample_rate= librosa.load(os.path.join(file_name), res_type= 'kaiser_fast')\n",
    "    if chroma:\n",
    "        stft= np.abs(librosa.stft(X))\n",
    "    result= np.array([])\n",
    "    if mfcc:\n",
    "        mfcc= np.mean(librosa.feature.mfcc(y=X, sr= sample_rate, n_mfcc= 40).T, axis=0)\n",
    "        result= np.hstack((result, mfcc))\n",
    "    if chroma:\n",
    "        chroma= np.mean(librosa.feature.chroma_stft(S= stft, sr= sample_rate).T, axis=0)\n",
    "        result= np.hstack((result, chroma))\n",
    "    if mel:\n",
    "        mel= np.mean(librosa.feature.melspectrogram(y=X, sr= sample_rate).T, axis=0)\n",
    "        result= np.hstack((result, mel))\n",
    "    return result"
   ]
  },
  {
   "cell_type": "code",
   "execution_count": 6,
   "metadata": {
    "execution": {
     "iopub.execute_input": "2021-01-17T05:37:34.114067Z",
     "iopub.status.busy": "2021-01-17T05:37:34.113366Z",
     "iopub.status.idle": "2021-01-17T05:37:34.116499Z",
     "shell.execute_reply": "2021-01-17T05:37:34.117037Z"
    },
    "papermill": {
     "duration": 0.028055,
     "end_time": "2021-01-17T05:37:34.117167",
     "exception": false,
     "start_time": "2021-01-17T05:37:34.089112",
     "status": "completed"
    },
    "tags": []
   },
   "outputs": [],
   "source": [
    "def test_data():\n",
    "    x= []\n",
    "\n",
    "    file1= '../input/ravdess/help me.wav'\n",
    "    file2= '../input/ravdess/t1.wav'\n",
    "    features= extract_features(file1, mfcc= True, chroma= True, mel= True)\n",
    "    x.append(features)\n",
    "    features= extract_features(file2, mfcc= True, chroma= True, mel= True)\n",
    "    x.append(features)\n",
    "    return x"
   ]
  },
  {
   "cell_type": "code",
   "execution_count": 7,
   "metadata": {
    "execution": {
     "iopub.execute_input": "2021-01-17T05:37:34.157641Z",
     "iopub.status.busy": "2021-01-17T05:37:34.156961Z",
     "iopub.status.idle": "2021-01-17T05:37:35.139389Z",
     "shell.execute_reply": "2021-01-17T05:37:35.140089Z"
    },
    "papermill": {
     "duration": 1.005218,
     "end_time": "2021-01-17T05:37:35.140229",
     "exception": false,
     "start_time": "2021-01-17T05:37:34.135011",
     "status": "completed"
    },
    "tags": []
   },
   "outputs": [],
   "source": [
    "test= np.array(test_data())\n",
    "testcnn= np.expand_dims(test, axis=2)"
   ]
  },
  {
   "cell_type": "code",
   "execution_count": 8,
   "metadata": {
    "execution": {
     "iopub.execute_input": "2021-01-17T05:37:35.170438Z",
     "iopub.status.busy": "2021-01-17T05:37:35.169903Z",
     "iopub.status.idle": "2021-01-17T05:37:35.318621Z",
     "shell.execute_reply": "2021-01-17T05:37:35.318111Z"
    },
    "papermill": {
     "duration": 0.166133,
     "end_time": "2021-01-17T05:37:35.318720",
     "exception": false,
     "start_time": "2021-01-17T05:37:35.152587",
     "status": "completed"
    },
    "tags": []
   },
   "outputs": [],
   "source": [
    "from sklearn.preprocessing import LabelEncoder\n",
    "from tensorflow.keras.utils import to_categorical\n",
    "features_DIR= '/Users/hp/Documents/SafeToday/SafeToday-server/acoustic_features.joblib'\n",
    "labels_DIR= '/Users/hp/Documents/SafeToday/SafeToday-server/labels.joblib'\n",
    "x, y = joblib.load(features_DIR), joblib.load(labels_DIR)\n",
    "x= np.array(x)\n",
    "le= LabelEncoder()\n",
    "y = le.fit_transform(y)  # Label encode the target labels\n",
    "\n",
    "# One-hot encode the labels using TensorFlow's to_categorical\n",
    "y = to_categorical(y)\n",
    "#y= np_utils.to_categorical(le.fit_transform(y))\n",
    "# ohe= OneHotEncoder()\n",
    "# y= ohe.fit_transform(y.reshape(-1,1))\n",
    "x_train, x_test, y_train, y_test= train_test_split(x, y, test_size= 0.25,  random_state= 42, shuffle= True)"
   ]
  },
  {
   "cell_type": "code",
   "execution_count": 9,
   "metadata": {
    "execution": {
     "iopub.execute_input": "2021-01-17T05:37:35.349144Z",
     "iopub.status.busy": "2021-01-17T05:37:35.348622Z",
     "iopub.status.idle": "2021-01-17T05:37:35.354564Z",
     "shell.execute_reply": "2021-01-17T05:37:35.354062Z"
    },
    "papermill": {
     "duration": 0.023401,
     "end_time": "2021-01-17T05:37:35.354698",
     "exception": false,
     "start_time": "2021-01-17T05:37:35.331297",
     "status": "completed"
    },
    "tags": []
   },
   "outputs": [
    {
     "data": {
      "text/plain": [
       "(1500, 180)"
      ]
     },
     "execution_count": 9,
     "metadata": {},
     "output_type": "execute_result"
    }
   ],
   "source": [
    "x_train.shape"
   ]
  },
  {
   "cell_type": "code",
   "execution_count": 10,
   "metadata": {
    "execution": {
     "iopub.execute_input": "2021-01-17T05:37:35.384285Z",
     "iopub.status.busy": "2021-01-17T05:37:35.383795Z",
     "iopub.status.idle": "2021-01-17T05:37:35.387594Z",
     "shell.execute_reply": "2021-01-17T05:37:35.387042Z"
    },
    "papermill": {
     "duration": 0.020257,
     "end_time": "2021-01-17T05:37:35.387713",
     "exception": false,
     "start_time": "2021-01-17T05:37:35.367456",
     "status": "completed"
    },
    "tags": []
   },
   "outputs": [],
   "source": [
    "#DataFlair - Initialize the Multi Layer Perceptron Classifier\n",
    "MPLC = MLPClassifier(alpha=0.001, \n",
    "                    batch_size=256, \n",
    "                    epsilon=1e-08, \n",
    "                    hidden_layer_sizes=(300,), \n",
    "                    learning_rate='adaptive', \n",
    "                    max_iter=1000)"
   ]
  },
  {
   "cell_type": "code",
   "execution_count": 11,
   "metadata": {
    "execution": {
     "iopub.execute_input": "2021-01-17T05:37:35.417147Z",
     "iopub.status.busy": "2021-01-17T05:37:35.416628Z",
     "iopub.status.idle": "2021-01-17T05:37:39.140887Z",
     "shell.execute_reply": "2021-01-17T05:37:39.141322Z"
    },
    "papermill": {
     "duration": 3.740947,
     "end_time": "2021-01-17T05:37:39.141488",
     "exception": false,
     "start_time": "2021-01-17T05:37:35.400541",
     "status": "completed"
    },
    "tags": []
   },
   "outputs": [
    {
     "data": {
      "text/html": [
       "<style>#sk-container-id-1 {color: black;}#sk-container-id-1 pre{padding: 0;}#sk-container-id-1 div.sk-toggleable {background-color: white;}#sk-container-id-1 label.sk-toggleable__label {cursor: pointer;display: block;width: 100%;margin-bottom: 0;padding: 0.3em;box-sizing: border-box;text-align: center;}#sk-container-id-1 label.sk-toggleable__label-arrow:before {content: \"▸\";float: left;margin-right: 0.25em;color: #696969;}#sk-container-id-1 label.sk-toggleable__label-arrow:hover:before {color: black;}#sk-container-id-1 div.sk-estimator:hover label.sk-toggleable__label-arrow:before {color: black;}#sk-container-id-1 div.sk-toggleable__content {max-height: 0;max-width: 0;overflow: hidden;text-align: left;background-color: #f0f8ff;}#sk-container-id-1 div.sk-toggleable__content pre {margin: 0.2em;color: black;border-radius: 0.25em;background-color: #f0f8ff;}#sk-container-id-1 input.sk-toggleable__control:checked~div.sk-toggleable__content {max-height: 200px;max-width: 100%;overflow: auto;}#sk-container-id-1 input.sk-toggleable__control:checked~label.sk-toggleable__label-arrow:before {content: \"▾\";}#sk-container-id-1 div.sk-estimator input.sk-toggleable__control:checked~label.sk-toggleable__label {background-color: #d4ebff;}#sk-container-id-1 div.sk-label input.sk-toggleable__control:checked~label.sk-toggleable__label {background-color: #d4ebff;}#sk-container-id-1 input.sk-hidden--visually {border: 0;clip: rect(1px 1px 1px 1px);clip: rect(1px, 1px, 1px, 1px);height: 1px;margin: -1px;overflow: hidden;padding: 0;position: absolute;width: 1px;}#sk-container-id-1 div.sk-estimator {font-family: monospace;background-color: #f0f8ff;border: 1px dotted black;border-radius: 0.25em;box-sizing: border-box;margin-bottom: 0.5em;}#sk-container-id-1 div.sk-estimator:hover {background-color: #d4ebff;}#sk-container-id-1 div.sk-parallel-item::after {content: \"\";width: 100%;border-bottom: 1px solid gray;flex-grow: 1;}#sk-container-id-1 div.sk-label:hover label.sk-toggleable__label {background-color: #d4ebff;}#sk-container-id-1 div.sk-serial::before {content: \"\";position: absolute;border-left: 1px solid gray;box-sizing: border-box;top: 0;bottom: 0;left: 50%;z-index: 0;}#sk-container-id-1 div.sk-serial {display: flex;flex-direction: column;align-items: center;background-color: white;padding-right: 0.2em;padding-left: 0.2em;position: relative;}#sk-container-id-1 div.sk-item {position: relative;z-index: 1;}#sk-container-id-1 div.sk-parallel {display: flex;align-items: stretch;justify-content: center;background-color: white;position: relative;}#sk-container-id-1 div.sk-item::before, #sk-container-id-1 div.sk-parallel-item::before {content: \"\";position: absolute;border-left: 1px solid gray;box-sizing: border-box;top: 0;bottom: 0;left: 50%;z-index: -1;}#sk-container-id-1 div.sk-parallel-item {display: flex;flex-direction: column;z-index: 1;position: relative;background-color: white;}#sk-container-id-1 div.sk-parallel-item:first-child::after {align-self: flex-end;width: 50%;}#sk-container-id-1 div.sk-parallel-item:last-child::after {align-self: flex-start;width: 50%;}#sk-container-id-1 div.sk-parallel-item:only-child::after {width: 0;}#sk-container-id-1 div.sk-dashed-wrapped {border: 1px dashed gray;margin: 0 0.4em 0.5em 0.4em;box-sizing: border-box;padding-bottom: 0.4em;background-color: white;}#sk-container-id-1 div.sk-label label {font-family: monospace;font-weight: bold;display: inline-block;line-height: 1.2em;}#sk-container-id-1 div.sk-label-container {text-align: center;}#sk-container-id-1 div.sk-container {/* jupyter's `normalize.less` sets `[hidden] { display: none; }` but bootstrap.min.css set `[hidden] { display: none !important; }` so we also need the `!important` here to be able to override the default hidden behavior on the sphinx rendered scikit-learn.org. See: https://github.com/scikit-learn/scikit-learn/issues/21755 */display: inline-block !important;position: relative;}#sk-container-id-1 div.sk-text-repr-fallback {display: none;}</style><div id=\"sk-container-id-1\" class=\"sk-top-container\"><div class=\"sk-text-repr-fallback\"><pre>MLPClassifier(alpha=0.001, batch_size=256, hidden_layer_sizes=(300,),\n",
       "              learning_rate=&#x27;adaptive&#x27;, max_iter=1000)</pre><b>In a Jupyter environment, please rerun this cell to show the HTML representation or trust the notebook. <br />On GitHub, the HTML representation is unable to render, please try loading this page with nbviewer.org.</b></div><div class=\"sk-container\" hidden><div class=\"sk-item\"><div class=\"sk-estimator sk-toggleable\"><input class=\"sk-toggleable__control sk-hidden--visually\" id=\"sk-estimator-id-1\" type=\"checkbox\" checked><label for=\"sk-estimator-id-1\" class=\"sk-toggleable__label sk-toggleable__label-arrow\">MLPClassifier</label><div class=\"sk-toggleable__content\"><pre>MLPClassifier(alpha=0.001, batch_size=256, hidden_layer_sizes=(300,),\n",
       "              learning_rate=&#x27;adaptive&#x27;, max_iter=1000)</pre></div></div></div></div></div>"
      ],
      "text/plain": [
       "MLPClassifier(alpha=0.001, batch_size=256, hidden_layer_sizes=(300,),\n",
       "              learning_rate='adaptive', max_iter=1000)"
      ]
     },
     "execution_count": 11,
     "metadata": {},
     "output_type": "execute_result"
    }
   ],
   "source": [
    "MPLC.fit(x_train, y_train)"
   ]
  },
  {
   "cell_type": "code",
   "execution_count": 12,
   "metadata": {
    "execution": {
     "iopub.execute_input": "2021-01-17T05:37:39.175827Z",
     "iopub.status.busy": "2021-01-17T05:37:39.173617Z",
     "iopub.status.idle": "2021-01-17T05:37:39.193071Z",
     "shell.execute_reply": "2021-01-17T05:37:39.193520Z"
    },
    "papermill": {
     "duration": 0.037953,
     "end_time": "2021-01-17T05:37:39.193639",
     "exception": false,
     "start_time": "2021-01-17T05:37:39.155686",
     "status": "completed"
    },
    "tags": []
   },
   "outputs": [
    {
     "data": {
      "text/plain": [
       "0.668"
      ]
     },
     "execution_count": 12,
     "metadata": {},
     "output_type": "execute_result"
    }
   ],
   "source": [
    "#joblib.dump(MPLC, 'MPLC.h5')\n",
    "MPLC.score(x_test, y_test)"
   ]
  },
  {
   "cell_type": "code",
   "execution_count": 13,
   "metadata": {
    "execution": {
     "iopub.execute_input": "2021-01-17T05:37:39.226220Z",
     "iopub.status.busy": "2021-01-17T05:37:39.225515Z",
     "iopub.status.idle": "2021-01-17T05:37:39.229322Z",
     "shell.execute_reply": "2021-01-17T05:37:39.228898Z"
    },
    "papermill": {
     "duration": 0.021386,
     "end_time": "2021-01-17T05:37:39.229433",
     "exception": false,
     "start_time": "2021-01-17T05:37:39.208047",
     "status": "completed"
    },
    "tags": []
   },
   "outputs": [
    {
     "data": {
      "text/plain": [
       "['female_angry',\n",
       " 'female_calm',\n",
       " 'female_fearful',\n",
       " 'female_happy',\n",
       " 'female_sad',\n",
       " 'male_angry',\n",
       " 'male_calm',\n",
       " 'male_fearful',\n",
       " 'male_happy',\n",
       " 'male_sad']"
      ]
     },
     "execution_count": 13,
     "metadata": {},
     "output_type": "execute_result"
    }
   ],
   "source": [
    "list(le.classes_)"
   ]
  },
  {
   "cell_type": "code",
   "execution_count": 14,
   "metadata": {
    "execution": {
     "iopub.execute_input": "2021-01-17T05:37:39.262165Z",
     "iopub.status.busy": "2021-01-17T05:37:39.261433Z",
     "iopub.status.idle": "2021-01-17T05:37:39.263801Z",
     "shell.execute_reply": "2021-01-17T05:37:39.264212Z"
    },
    "papermill": {
     "duration": 0.020764,
     "end_time": "2021-01-17T05:37:39.264307",
     "exception": false,
     "start_time": "2021-01-17T05:37:39.243543",
     "status": "completed"
    },
    "tags": []
   },
   "outputs": [],
   "source": [
    "b= MPLC.predict_proba(test)"
   ]
  },
  {
   "cell_type": "code",
   "execution_count": 15,
   "metadata": {
    "execution": {
     "iopub.execute_input": "2021-01-17T05:37:39.297478Z",
     "iopub.status.busy": "2021-01-17T05:37:39.296658Z",
     "iopub.status.idle": "2021-01-17T05:37:39.320139Z",
     "shell.execute_reply": "2021-01-17T05:37:39.319524Z"
    },
    "papermill": {
     "duration": 0.041577,
     "end_time": "2021-01-17T05:37:39.320254",
     "exception": false,
     "start_time": "2021-01-17T05:37:39.278677",
     "status": "completed"
    },
    "tags": []
   },
   "outputs": [
    {
     "name": "stderr",
     "output_type": "stream",
     "text": [
      "/Users/hp/anaconda3/lib/python3.11/site-packages/sklearn/metrics/_classification.py:1469: UndefinedMetricWarning: Precision and F-score are ill-defined and being set to 0.0 in samples with no predicted labels. Use `zero_division` parameter to control this behavior.\n",
      "  _warn_prf(average, modifier, msg_start, len(result))\n"
     ]
    },
    {
     "data": {
      "text/plain": [
       "'              precision    recall  f1-score   support\\n\\n           0       0.94      0.82      0.88        79\\n           1       0.73      0.73      0.73        22\\n           2       0.90      0.86      0.88        73\\n           3       0.93      0.83      0.88        82\\n           4       0.90      0.83      0.86        72\\n           5       0.68      0.54      0.60        35\\n           6       1.00      0.43      0.60        30\\n           7       0.47      0.64      0.54        36\\n           8       0.83      0.50      0.62        38\\n           9       0.53      0.70      0.61        33\\n\\n   micro avg       0.81      0.74      0.77       500\\n   macro avg       0.79      0.69      0.72       500\\nweighted avg       0.83      0.74      0.77       500\\n samples avg       0.70      0.74      0.71       500\\n'"
      ]
     },
     "execution_count": 15,
     "metadata": {},
     "output_type": "execute_result"
    }
   ],
   "source": [
    "classification_report(y_test, MPLC.predict(x_test))"
   ]
  },
  {
   "cell_type": "code",
   "execution_count": 16,
   "metadata": {
    "execution": {
     "iopub.execute_input": "2021-01-17T05:37:39.355260Z",
     "iopub.status.busy": "2021-01-17T05:37:39.354609Z",
     "iopub.status.idle": "2021-01-17T05:37:39.357189Z",
     "shell.execute_reply": "2021-01-17T05:37:39.357623Z"
    },
    "papermill": {
     "duration": 0.021709,
     "end_time": "2021-01-17T05:37:39.357723",
     "exception": false,
     "start_time": "2021-01-17T05:37:39.336014",
     "status": "completed"
    },
    "tags": []
   },
   "outputs": [],
   "source": [
    "svc= SVC()\n",
    "svc.probability=True"
   ]
  },
  {
   "cell_type": "code",
   "execution_count": 17,
   "metadata": {
    "execution": {
     "iopub.execute_input": "2021-01-17T05:37:39.393258Z",
     "iopub.status.busy": "2021-01-17T05:37:39.392150Z",
     "iopub.status.idle": "2021-01-17T05:37:42.607562Z",
     "shell.execute_reply": "2021-01-17T05:37:42.606625Z"
    },
    "papermill": {
     "duration": 3.234669,
     "end_time": "2021-01-17T05:37:42.607681",
     "exception": false,
     "start_time": "2021-01-17T05:37:39.373012",
     "status": "completed"
    },
    "tags": []
   },
   "outputs": [
    {
     "data": {
      "text/html": [
       "<style>#sk-container-id-2 {color: black;}#sk-container-id-2 pre{padding: 0;}#sk-container-id-2 div.sk-toggleable {background-color: white;}#sk-container-id-2 label.sk-toggleable__label {cursor: pointer;display: block;width: 100%;margin-bottom: 0;padding: 0.3em;box-sizing: border-box;text-align: center;}#sk-container-id-2 label.sk-toggleable__label-arrow:before {content: \"▸\";float: left;margin-right: 0.25em;color: #696969;}#sk-container-id-2 label.sk-toggleable__label-arrow:hover:before {color: black;}#sk-container-id-2 div.sk-estimator:hover label.sk-toggleable__label-arrow:before {color: black;}#sk-container-id-2 div.sk-toggleable__content {max-height: 0;max-width: 0;overflow: hidden;text-align: left;background-color: #f0f8ff;}#sk-container-id-2 div.sk-toggleable__content pre {margin: 0.2em;color: black;border-radius: 0.25em;background-color: #f0f8ff;}#sk-container-id-2 input.sk-toggleable__control:checked~div.sk-toggleable__content {max-height: 200px;max-width: 100%;overflow: auto;}#sk-container-id-2 input.sk-toggleable__control:checked~label.sk-toggleable__label-arrow:before {content: \"▾\";}#sk-container-id-2 div.sk-estimator input.sk-toggleable__control:checked~label.sk-toggleable__label {background-color: #d4ebff;}#sk-container-id-2 div.sk-label input.sk-toggleable__control:checked~label.sk-toggleable__label {background-color: #d4ebff;}#sk-container-id-2 input.sk-hidden--visually {border: 0;clip: rect(1px 1px 1px 1px);clip: rect(1px, 1px, 1px, 1px);height: 1px;margin: -1px;overflow: hidden;padding: 0;position: absolute;width: 1px;}#sk-container-id-2 div.sk-estimator {font-family: monospace;background-color: #f0f8ff;border: 1px dotted black;border-radius: 0.25em;box-sizing: border-box;margin-bottom: 0.5em;}#sk-container-id-2 div.sk-estimator:hover {background-color: #d4ebff;}#sk-container-id-2 div.sk-parallel-item::after {content: \"\";width: 100%;border-bottom: 1px solid gray;flex-grow: 1;}#sk-container-id-2 div.sk-label:hover label.sk-toggleable__label {background-color: #d4ebff;}#sk-container-id-2 div.sk-serial::before {content: \"\";position: absolute;border-left: 1px solid gray;box-sizing: border-box;top: 0;bottom: 0;left: 50%;z-index: 0;}#sk-container-id-2 div.sk-serial {display: flex;flex-direction: column;align-items: center;background-color: white;padding-right: 0.2em;padding-left: 0.2em;position: relative;}#sk-container-id-2 div.sk-item {position: relative;z-index: 1;}#sk-container-id-2 div.sk-parallel {display: flex;align-items: stretch;justify-content: center;background-color: white;position: relative;}#sk-container-id-2 div.sk-item::before, #sk-container-id-2 div.sk-parallel-item::before {content: \"\";position: absolute;border-left: 1px solid gray;box-sizing: border-box;top: 0;bottom: 0;left: 50%;z-index: -1;}#sk-container-id-2 div.sk-parallel-item {display: flex;flex-direction: column;z-index: 1;position: relative;background-color: white;}#sk-container-id-2 div.sk-parallel-item:first-child::after {align-self: flex-end;width: 50%;}#sk-container-id-2 div.sk-parallel-item:last-child::after {align-self: flex-start;width: 50%;}#sk-container-id-2 div.sk-parallel-item:only-child::after {width: 0;}#sk-container-id-2 div.sk-dashed-wrapped {border: 1px dashed gray;margin: 0 0.4em 0.5em 0.4em;box-sizing: border-box;padding-bottom: 0.4em;background-color: white;}#sk-container-id-2 div.sk-label label {font-family: monospace;font-weight: bold;display: inline-block;line-height: 1.2em;}#sk-container-id-2 div.sk-label-container {text-align: center;}#sk-container-id-2 div.sk-container {/* jupyter's `normalize.less` sets `[hidden] { display: none; }` but bootstrap.min.css set `[hidden] { display: none !important; }` so we also need the `!important` here to be able to override the default hidden behavior on the sphinx rendered scikit-learn.org. See: https://github.com/scikit-learn/scikit-learn/issues/21755 */display: inline-block !important;position: relative;}#sk-container-id-2 div.sk-text-repr-fallback {display: none;}</style><div id=\"sk-container-id-2\" class=\"sk-top-container\"><div class=\"sk-text-repr-fallback\"><pre>SVC(probability=True)</pre><b>In a Jupyter environment, please rerun this cell to show the HTML representation or trust the notebook. <br />On GitHub, the HTML representation is unable to render, please try loading this page with nbviewer.org.</b></div><div class=\"sk-container\" hidden><div class=\"sk-item\"><div class=\"sk-estimator sk-toggleable\"><input class=\"sk-toggleable__control sk-hidden--visually\" id=\"sk-estimator-id-2\" type=\"checkbox\" checked><label for=\"sk-estimator-id-2\" class=\"sk-toggleable__label sk-toggleable__label-arrow\">SVC</label><div class=\"sk-toggleable__content\"><pre>SVC(probability=True)</pre></div></div></div></div></div>"
      ],
      "text/plain": [
       "SVC(probability=True)"
      ]
     },
     "execution_count": 17,
     "metadata": {},
     "output_type": "execute_result"
    }
   ],
   "source": [
    "svc.fit(x_train, np.argmax(y_train, axis= 1))"
   ]
  },
  {
   "cell_type": "code",
   "execution_count": 18,
   "metadata": {
    "execution": {
     "iopub.execute_input": "2021-01-17T05:37:42.644745Z",
     "iopub.status.busy": "2021-01-17T05:37:42.643903Z",
     "iopub.status.idle": "2021-01-17T05:37:42.830053Z",
     "shell.execute_reply": "2021-01-17T05:37:42.830507Z"
    },
    "papermill": {
     "duration": 0.207065,
     "end_time": "2021-01-17T05:37:42.830628",
     "exception": false,
     "start_time": "2021-01-17T05:37:42.623563",
     "status": "completed"
    },
    "tags": []
   },
   "outputs": [
    {
     "data": {
      "text/plain": [
       "0.554"
      ]
     },
     "execution_count": 18,
     "metadata": {},
     "output_type": "execute_result"
    }
   ],
   "source": [
    "svc.score(x_test, np.argmax(y_test, axis=1))"
   ]
  },
  {
   "cell_type": "code",
   "execution_count": 19,
   "metadata": {
    "execution": {
     "iopub.execute_input": "2021-01-17T05:37:42.868439Z",
     "iopub.status.busy": "2021-01-17T05:37:42.867613Z",
     "iopub.status.idle": "2021-01-17T05:37:42.871279Z",
     "shell.execute_reply": "2021-01-17T05:37:42.870748Z"
    },
    "papermill": {
     "duration": 0.024267,
     "end_time": "2021-01-17T05:37:42.871401",
     "exception": false,
     "start_time": "2021-01-17T05:37:42.847134",
     "status": "completed"
    },
    "tags": []
   },
   "outputs": [],
   "source": [
    "a= svc.predict_proba(test)"
   ]
  },
  {
   "cell_type": "code",
   "execution_count": 20,
   "metadata": {
    "execution": {
     "iopub.execute_input": "2021-01-17T05:37:42.907924Z",
     "iopub.status.busy": "2021-01-17T05:37:42.906875Z",
     "iopub.status.idle": "2021-01-17T05:37:42.915746Z",
     "shell.execute_reply": "2021-01-17T05:37:42.915174Z"
    },
    "papermill": {
     "duration": 0.02838,
     "end_time": "2021-01-17T05:37:42.915836",
     "exception": false,
     "start_time": "2021-01-17T05:37:42.887456",
     "status": "completed"
    },
    "tags": []
   },
   "outputs": [],
   "source": [
    "#joblib.dump(svc, 'svc.h5')"
   ]
  },
  {
   "cell_type": "code",
   "execution_count": 21,
   "metadata": {
    "execution": {
     "iopub.execute_input": "2021-01-17T05:37:42.953278Z",
     "iopub.status.busy": "2021-01-17T05:37:42.952647Z",
     "iopub.status.idle": "2021-01-17T05:37:42.955388Z",
     "shell.execute_reply": "2021-01-17T05:37:42.955824Z"
    },
    "papermill": {
     "duration": 0.023271,
     "end_time": "2021-01-17T05:37:42.955957",
     "exception": false,
     "start_time": "2021-01-17T05:37:42.932686",
     "status": "completed"
    },
    "tags": []
   },
   "outputs": [],
   "source": [
    "c= a+b"
   ]
  },
  {
   "cell_type": "code",
   "execution_count": 22,
   "metadata": {
    "execution": {
     "iopub.execute_input": "2021-01-17T05:37:42.995046Z",
     "iopub.status.busy": "2021-01-17T05:37:42.994292Z",
     "iopub.status.idle": "2021-01-17T05:37:42.997447Z",
     "shell.execute_reply": "2021-01-17T05:37:42.997830Z"
    },
    "papermill": {
     "duration": 0.024353,
     "end_time": "2021-01-17T05:37:42.997934",
     "exception": false,
     "start_time": "2021-01-17T05:37:42.973581",
     "status": "completed"
    },
    "tags": []
   },
   "outputs": [
    {
     "data": {
      "text/plain": [
       "array([2, 1])"
      ]
     },
     "execution_count": 22,
     "metadata": {},
     "output_type": "execute_result"
    }
   ],
   "source": [
    "np.argmax(c, axis=1)"
   ]
  },
  {
   "cell_type": "code",
   "execution_count": 23,
   "metadata": {},
   "outputs": [
    {
     "name": "stdout",
     "output_type": "stream",
     "text": [
      "Random Forest Classifier Score: 0.798\n"
     ]
    }
   ],
   "source": [
    "from sklearn.ensemble import RandomForestClassifier\n",
    "# Random Forest Classifier\n",
    "rf_classifier = RandomForestClassifier(n_estimators=100, max_depth=None, random_state=42)\n",
    "rf_classifier.fit(x_train, np.argmax(y_train, axis= 1))\n",
    "rf_score = rf_classifier.score(x_test, np.argmax(y_test, axis=1))\n",
    "print(f\"Random Forest Classifier Score: {rf_score}\")"
   ]
  },
  {
   "cell_type": "code",
   "execution_count": 32,
   "metadata": {
    "scrolled": false
   },
   "outputs": [
    {
     "name": "stdout",
     "output_type": "stream",
     "text": [
      "Classification Report:\n",
      "               precision    recall  f1-score   support\n",
      "\n",
      "           0       0.96      0.91      0.94        79\n",
      "           1       0.65      0.91      0.75        22\n",
      "           2       0.81      0.88      0.84        73\n",
      "           3       0.91      0.83      0.87        82\n",
      "           4       0.81      0.79      0.80        72\n",
      "           5       0.79      0.66      0.72        35\n",
      "           6       0.67      0.87      0.75        30\n",
      "           7       0.65      0.61      0.63        36\n",
      "           8       0.63      0.71      0.67        38\n",
      "           9       0.80      0.61      0.69        33\n",
      "\n",
      "    accuracy                           0.80       500\n",
      "   macro avg       0.77      0.78      0.77       500\n",
      "weighted avg       0.81      0.80      0.80       500\n",
      "\n"
     ]
    },
    {
     "data": {
      "image/png": "[encoded data removed]",
      "text/plain": [
       "<Figure size 800x600 with 2 Axes>"
      ]
     },
     "metadata": {},
     "output_type": "display_data"
    },
    {
     "name": "stdout",
     "output_type": "stream",
     "text": [
      "Accuracy: 0.798\n"
     ]
    }
   ],
   "source": [
    "from sklearn.metrics import classification_report, confusion_matrix\n",
    "import seaborn as sns\n",
    "import matplotlib.pyplot as plt\n",
    "\n",
    "# Make predictions on the test set\n",
    "y_pred = rf_classifier.predict(x_test)\n",
    "\n",
    "# Evaluate using classification report\n",
    "print(\"Classification Report:\\n\", classification_report(np.argmax(y_test, axis=1), y_pred))\n",
    "\n",
    "# Evaluate using confusion matrix\n",
    "cm = confusion_matrix(np.argmax(y_test, axis=1), y_pred)\n",
    "\n",
    "# Plot the confusion matrix using seaborn heatmap\n",
    "plt.figure(figsize=(8, 6))\n",
    "sns.heatmap(cm, annot=True, fmt='d', cmap='Blues', xticklabels=le.classes_, yticklabels=le.classes_)\n",
    "plt.xlabel('Predicted Label')\n",
    "plt.ylabel('True Label')\n",
    "plt.title('Confusion Matrix')\n",
    "plt.show()\n",
    "\n",
    "# You can also print the accuracy score explicitly\n",
    "print(f\"Accuracy: {rf_score}\")\n"
   ]
  },
  {
   "cell_type": "code",
   "execution_count": 33,
   "metadata": {},
   "outputs": [
    {
     "data": {
      "text/plain": [
       "['random_forest_model.pkl']"
      ]
     },
     "execution_count": 33,
     "metadata": {},
     "output_type": "execute_result"
    }
   ],
   "source": [
    "joblib.dump(rf_classifier, 'random_forest_model.pkl')"
   ]
  },
  {
   "cell_type": "code",
   "execution_count": 24,
   "metadata": {},
   "outputs": [
    {
     "name": "stderr",
     "output_type": "stream",
     "text": [
      "/Users/hp/anaconda3/lib/python3.11/site-packages/sklearn/linear_model/_logistic.py:460: ConvergenceWarning: lbfgs failed to converge (status=1):\n",
      "STOP: TOTAL NO. of ITERATIONS REACHED LIMIT.\n",
      "\n",
      "Increase the number of iterations (max_iter) or scale the data as shown in:\n",
      "    https://scikit-learn.org/stable/modules/preprocessing.html\n",
      "Please also refer to the documentation for alternative solver options:\n",
      "    https://scikit-learn.org/stable/modules/linear_model.html#logistic-regression\n",
      "  n_iter_i = _check_optimize_result(\n"
     ]
    },
    {
     "name": "stdout",
     "output_type": "stream",
     "text": [
      "Accuracy:  0.764\n"
     ]
    }
   ],
   "source": [
    "from sklearn.linear_model import LogisticRegression\n",
    "log_reg = LogisticRegression(max_iter=1000, multi_class='ovr', solver='lbfgs', random_state=42)\n",
    "log_reg.fit(x_train, np.argmax(y_train, axis=1))\n",
    "\n",
    "# Save the model\n",
    "joblib.dump(log_reg, 'LogisticRegression.joblib')\n",
    "\n",
    "# Evaluate the model\n",
    "score = log_reg.score(x_test, np.argmax(y_test, axis=1))\n",
    "print(\"Accuracy: \", score)\n"
   ]
  },
  {
   "cell_type": "code",
   "execution_count": 25,
   "metadata": {
    "collapsed": true
   },
   "outputs": [
    {
     "name": "stdout",
     "output_type": "stream",
     "text": [
      "Requirement already satisfied: xgboost in /Users/hp/anaconda3/lib/python3.11/site-packages (2.1.2)\n",
      "Requirement already satisfied: numpy in /Users/hp/anaconda3/lib/python3.11/site-packages (from xgboost) (1.24.3)\n",
      "Requirement already satisfied: scipy in /Users/hp/anaconda3/lib/python3.11/site-packages (from xgboost) (1.11.1)\n",
      "\n",
      "\u001b[1m[\u001b[0m\u001b[34;49mnotice\u001b[0m\u001b[1;39;49m]\u001b[0m\u001b[39;49m A new release of pip is available: \u001b[0m\u001b[31;49m24.0\u001b[0m\u001b[39;49m -> \u001b[0m\u001b[32;49m24.3.1\u001b[0m\n",
      "\u001b[1m[\u001b[0m\u001b[34;49mnotice\u001b[0m\u001b[1;39;49m]\u001b[0m\u001b[39;49m To update, run: \u001b[0m\u001b[32;49mpip install --upgrade pip\u001b[0m\n",
      "Note: you may need to restart the kernel to use updated packages.\n"
     ]
    }
   ],
   "source": [
    "pip install xgboost\n"
   ]
  },
  {
   "cell_type": "code",
   "execution_count": 29,
   "metadata": {
    "scrolled": false
   },
   "outputs": [
    {
     "name": "stdout",
     "output_type": "stream",
     "text": [
      "Classification Report:\n",
      "              precision    recall  f1-score   support\n",
      "\n",
      "           0       0.96      0.91      0.94        79\n",
      "           1       0.67      0.91      0.77        22\n",
      "           2       0.79      0.84      0.81        73\n",
      "           3       0.89      0.85      0.87        82\n",
      "           4       0.87      0.81      0.83        72\n",
      "           5       0.76      0.71      0.74        35\n",
      "           6       0.83      0.80      0.81        30\n",
      "           7       0.64      0.64      0.64        36\n",
      "           8       0.75      0.71      0.73        38\n",
      "           9       0.68      0.79      0.73        33\n",
      "\n",
      "    accuracy                           0.81       500\n",
      "   macro avg       0.78      0.80      0.79       500\n",
      "weighted avg       0.82      0.81      0.81       500\n",
      "\n"
     ]
    }
   ],
   "source": [
    "import xgboost as xgb\n",
    "\n",
    "testcnn_reshaped = testcnn.reshape(testcnn.shape[0], -1)  # Flatten the array to 2D\n",
    "\n",
    "train_data = xgb.DMatrix(x_train, label=np.argmax(y_train, axis=1))\n",
    "test_data = xgb.DMatrix(x_test, label=np.argmax(y_test, axis=1))\n",
    "\n",
    "# Define the XGBoost parameters\n",
    "params = {\n",
    "    'objective': 'multi:softmax',  # Multi-class classification\n",
    "    'num_class': y_train.shape[1], # Number of classes\n",
    "    'eval_metric': 'mlogloss',     # Multi-class log loss\n",
    "    'max_depth': 6,                # Depth of the trees\n",
    "    'eta': 0.1,                    # Learning rate\n",
    "    'subsample': 0.8,              # Subsampling ratio\n",
    "    'colsample_bytree': 0.8        # Column sampling ratio\n",
    "}\n",
    "\n",
    "# Train the XGBoost model\n",
    "num_round = 100  # Number of boosting rounds\n",
    "model = xgb.train(params, train_data, num_round)\n",
    "\n",
    "# Make predictions on the test set\n",
    "y_pred = model.predict(test_data)\n",
    "\n",
    "# Evaluate the model's performance\n",
    "print(\"Classification Report:\")\n",
    "print(classification_report(np.argmax(y_test, axis=1), y_pred))\n",
    "\n",
    "# Save the model\n",
    "#model.save_model('xgboost_model.json')\n",
    "\n",
    "# Optionally, make predictions on custom test data (if any)\n"
   ]
  },
  {
   "cell_type": "code",
   "execution_count": 35,
   "metadata": {
    "scrolled": true
   },
   "outputs": [
    {
     "name": "stdout",
     "output_type": "stream",
     "text": [
      "Confusion Matrix:\n"
     ]
    },
    {
     "data": {
      "image/png": "[encoded data removed]",
      "text/plain": [
       "<Figure size 800x600 with 2 Axes>"
      ]
     },
     "metadata": {},
     "output_type": "display_data"
    }
   ],
   "source": [
    "# Confusion Matrix\n",
    "cm = confusion_matrix(np.argmax(y_test, axis=1), y_pred)\n",
    "print(\"Confusion Matrix:\")\n",
    "\n",
    "# Plot the confusion matrix using seaborn heatmap\n",
    "plt.figure(figsize=(8, 6))\n",
    "sns.heatmap(cm, annot=True, fmt='d', cmap='Blues', xticklabels=le.classes_, yticklabels=le.classes_)\n",
    "plt.xlabel('Predicted Label')\n",
    "plt.ylabel('True Label')\n",
    "plt.title('Confusion Matrix')\n",
    "plt.show()"
   ]
  },
  {
   "cell_type": "code",
   "execution_count": 36,
   "metadata": {},
   "outputs": [
    {
     "data": {
      "text/plain": [
       "['xgboost_model.pkl']"
      ]
     },
     "execution_count": 36,
     "metadata": {},
     "output_type": "execute_result"
    }
   ],
   "source": [
    "joblib.dump(model, 'xgboost_model.pkl')"
   ]
  },
  {
   "cell_type": "code",
   "execution_count": null,
   "metadata": {},
   "outputs": [],
   "source": []
  }
 ],
 "metadata": {
  "kernelspec": {
   "display_name": "Python 3 (ipykernel)",
   "language": "python",
   "name": "python3"
  },
  "language_info": {
   "codemirror_mode": {
    "name": "ipython",
    "version": 3
   },
   "file_extension": ".py",
   "mimetype": "text/x-python",
   "name": "python",
   "nbconvert_exporter": "python",
   "pygments_lexer": "ipython3",
   "version": "3.11.5"
  },
  "papermill": {
   "duration": 19.496592,
   "end_time": "2021-01-17T05:37:43.120570",
   "environment_variables": {},
   "exception": null,
   "input_path": "__notebook__.ipynb",
   "output_path": "__notebook__.ipynb",
   "parameters": {},
   "start_time": "2021-01-17T05:37:23.623978",
   "version": "2.1.0"
  }
 },
 "nbformat": 4,
 "nbformat_minor": 4
}
