{
 "cells": [
  {
   "cell_type": "code",
   "execution_count": 3,
   "metadata": {
    "_cell_guid": "b1076dfc-b9ad-4769-8c92-a6c4dae69d19",
    "_uuid": "8f2839f25d086af736a60e9eeb907d3b93b6e0e5",
    "execution": {
     "iopub.execute_input": "2021-01-15T10:38:27.096406Z",
     "iopub.status.busy": "2021-01-15T10:38:27.095741Z",
     "iopub.status.idle": "2021-01-15T10:38:29.409499Z",
     "shell.execute_reply": "2021-01-15T10:38:29.408886Z"
    },
    "papermill": {
     "duration": 2.325135,
     "end_time": "2021-01-15T10:38:29.409646",
     "exception": false,
     "start_time": "2021-01-15T10:38:27.084511",
     "status": "completed"
    },
    "tags": []
   },
   "outputs": [],
   "source": [
    "import librosa\n",
    "import numpy as np\n",
    "import soundfile\n",
    "import os\n",
    "import glob\n",
    "import joblib\n",
    "import pickle\n",
    "from tqdm import tqdm\n",
    "import pandas as pd"
   ]
  },
  {
   "cell_type": "code",
   "execution_count": 4,
   "metadata": {
    "_cell_guid": "79c7e3d0-c299-4dcb-8224-4455121ee9b0",
    "_uuid": "d629ff2d2480ee46fbb7e2d37f6b5fab8052498a",
    "execution": {
     "iopub.execute_input": "2021-01-15T10:38:29.426884Z",
     "iopub.status.busy": "2021-01-15T10:38:29.425932Z",
     "iopub.status.idle": "2021-01-15T10:38:29.436072Z",
     "shell.execute_reply": "2021-01-15T10:38:29.436616Z"
    },
    "papermill": {
     "duration": 0.019699,
     "end_time": "2021-01-15T10:38:29.436759",
     "exception": false,
     "start_time": "2021-01-15T10:38:29.417060",
     "status": "completed"
    },
    "tags": []
   },
   "outputs": [],
   "source": [
    "def extract_features(file_name, mfcc, chroma, mel):\n",
    "    X, sample_rate= librosa.load(os.path.join(file_name), res_type= 'kaiser_fast')\n",
    "    if chroma:\n",
    "        stft= np.abs(librosa.stft(X))\n",
    "    result= np.array([])\n",
    "    if mfcc:\n",
    "        mfcc= np.mean(librosa.feature.mfcc(y=X, sr= sample_rate, n_mfcc= 40).T, axis=0)\n",
    "        result= np.hstack((result, mfcc))\n",
    "    if chroma:\n",
    "        chroma= np.mean(librosa.feature.chroma_stft(S= stft, sr= sample_rate).T, axis=0)\n",
    "        result= np.hstack((result, chroma))\n",
    "    if mel:\n",
    "        mel= np.mean(librosa.feature.melspectrogram(y=X, sr= sample_rate).T, axis=0)\n",
    "        result= np.hstack((result, mel))\n",
    "    return result"
   ]
  },
  {
   "cell_type": "code",
   "execution_count": 5,
   "metadata": {
    "execution": {
     "iopub.execute_input": "2021-01-15T10:38:29.451914Z",
     "iopub.status.busy": "2021-01-15T10:38:29.451039Z",
     "iopub.status.idle": "2021-01-15T10:38:29.477449Z",
     "shell.execute_reply": "2021-01-15T10:38:29.476907Z"
    },
    "papermill": {
     "duration": 0.035763,
     "end_time": "2021-01-15T10:38:29.477556",
     "exception": false,
     "start_time": "2021-01-15T10:38:29.441793",
     "status": "completed"
    },
    "tags": []
   },
   "outputs": [],
   "source": [
    "df = pd.read_csv('../input/ravdess/data .csv')"
   ]
  },
  {
   "cell_type": "code",
   "execution_count": 6,
   "metadata": {
    "execution": {
     "iopub.execute_input": "2021-01-15T10:38:29.498201Z",
     "iopub.status.busy": "2021-01-15T10:38:29.497255Z",
     "iopub.status.idle": "2021-01-15T10:38:29.499522Z",
     "shell.execute_reply": "2021-01-15T10:38:29.500062Z"
    },
    "papermill": {
     "duration": 0.017213,
     "end_time": "2021-01-15T10:38:29.500195",
     "exception": false,
     "start_time": "2021-01-15T10:38:29.482982",
     "status": "completed"
    },
    "tags": []
   },
   "outputs": [],
   "source": [
    "paths= df['file_name']\n",
    "labels= df['emotion']"
   ]
  },
  {
   "cell_type": "code",
   "execution_count": 7,
   "metadata": {
    "execution": {
     "iopub.execute_input": "2021-01-15T10:38:29.513779Z",
     "iopub.status.busy": "2021-01-15T10:38:29.512905Z",
     "iopub.status.idle": "2021-01-15T10:38:29.518890Z",
     "shell.execute_reply": "2021-01-15T10:38:29.519344Z"
    },
    "papermill": {
     "duration": 0.014094,
     "end_time": "2021-01-15T10:38:29.519481",
     "exception": false,
     "start_time": "2021-01-15T10:38:29.505387",
     "status": "completed"
    },
    "tags": []
   },
   "outputs": [],
   "source": [
    "def save_acoustic_data():\n",
    "    x = []\n",
    "    for path in tqdm(paths):\n",
    "        features= extract_features(path, mfcc= True, chroma= True, mel= True)\n",
    "        x.append(features)\n",
    "    print(len(x))\n",
    "    joblib.dump(x, 'acoustic_features.joblib')\n",
    "    joblib.dump(labels, 'labels.joblib')"
   ]
  },
  {
   "cell_type": "code",
   "execution_count": 6,
   "metadata": {
    "execution": {
     "iopub.execute_input": "2021-01-15T10:38:29.533077Z",
     "iopub.status.busy": "2021-01-15T10:38:29.532256Z",
     "iopub.status.idle": "2021-01-15T10:41:03.143750Z",
     "shell.execute_reply": "2021-01-15T10:41:03.143028Z"
    },
    "papermill": {
     "duration": 153.618945,
     "end_time": "2021-01-15T10:41:03.143889",
     "exception": false,
     "start_time": "2021-01-15T10:38:29.524944",
     "status": "completed"
    },
    "tags": []
   },
   "outputs": [
    {
     "name": "stderr",
     "output_type": "stream",
     "text": [
      "100%|███████████████████████████████████████| 2000/2000 [01:06<00:00, 30.25it/s]\n"
     ]
    },
    {
     "name": "stdout",
     "output_type": "stream",
     "text": [
      "2000\n"
     ]
    }
   ],
   "source": [
    "save_acoustic_data()"
   ]
  },
  {
   "cell_type": "code",
   "execution_count": 1,
   "metadata": {},
   "outputs": [
    {
     "name": "stdout",
     "output_type": "stream",
     "text": [
      "/Users/hp/Documents/SafeToday/SafeToday-server\n"
     ]
    }
   ],
   "source": [
    "import os\n",
    "print(os.getcwd())\n"
   ]
  },
  {
   "cell_type": "code",
   "execution_count": 2,
   "metadata": {},
   "outputs": [
    {
     "name": "stdout",
     "output_type": "stream",
     "text": [
      "First feature set:\n",
      "[-4.95134521e+02  1.98272457e+01 -3.12586327e+01 -7.82472730e-01\n",
      " -1.60169277e+01 -8.69941139e+00 -1.24607458e+01 -9.79300404e+00\n",
      " -1.04898710e+01 -2.35020757e+00 -1.37200460e+01 -1.52689242e+00\n",
      " -1.01189299e+01  5.75006294e+00 -3.49417782e+00  6.20363998e+00\n",
      "  6.79931879e+00  1.21795893e+01  4.73703098e+00  6.67583895e+00\n",
      " -8.75635982e-01 -3.55848694e+00 -4.11643457e+00 -2.32887998e-01\n",
      " -3.68636823e+00 -4.36956024e+00 -2.70845842e+00 -2.68010259e+00\n",
      " -1.44220817e+00 -9.63187516e-01  8.93680379e-02  3.53493404e+00\n",
      "  1.74905777e-01  3.51194799e-01  1.94231939e+00  4.81805742e-01\n",
      " -1.42539024e+00  2.45588088e+00  4.28651905e+00  5.86535454e-01\n",
      "  5.94437897e-01  4.95109349e-01  4.18585569e-01  4.19149399e-01\n",
      "  4.41639692e-01  4.93363202e-01  5.82923472e-01  6.02568090e-01\n",
      "  6.31983459e-01  6.15253448e-01  6.17161572e-01  6.10173285e-01\n",
      "  1.05638501e-05  2.38600642e-05  5.40537658e-05  4.30434193e-05\n",
      "  3.18908424e-05  5.47664968e-05  5.59319742e-05  6.55098484e-05\n",
      "  1.01888327e-04  6.04153785e-04  4.93422383e-03  1.91055145e-02\n",
      "  2.21630901e-01  1.01012802e+00  1.83762050e+00  2.82053328e+00\n",
      "  3.12214851e+00  6.94038689e-01  1.47590131e-01  7.03964055e-01\n",
      "  2.06286240e+00  2.70067930e-01  6.15167990e-03  2.35847803e-03\n",
      "  2.87768315e-03  3.34389620e-02  3.06910306e-01  6.95242047e-01\n",
      "  9.81181622e-01  3.11378688e-01  2.01971471e-01  3.91682178e-01\n",
      "  4.51599658e-01  3.53292614e-01  6.41018033e-01  6.15726233e-01\n",
      "  7.57203773e-02  1.27563961e-02  2.19217897e-03  8.10509250e-02\n",
      "  4.37311411e-01  5.08246601e-01  5.79633772e-01  2.38482937e-01\n",
      "  2.95464873e-01  3.26664031e-01  3.13170224e-01  2.58360982e-01\n",
      "  2.32837647e-01  2.99462289e-01  4.38728891e-02  2.15675652e-01\n",
      "  3.88745964e-01  8.29765141e-01  3.46004516e-01  2.77632535e-01\n",
      "  2.91287363e-01  1.94480896e-01  1.14540353e-01  4.71572168e-02\n",
      "  6.14600107e-02  3.77792209e-01  2.27141604e-01  1.11898035e-02\n",
      "  6.24080095e-03  9.53777321e-03  5.28960526e-02  6.41401634e-02\n",
      "  3.55482958e-02  1.77761763e-02  8.07128381e-03  2.87585473e-03\n",
      "  2.27840953e-02  5.08548245e-02  9.02213305e-02  1.10766359e-01\n",
      "  2.18924228e-02  2.14610100e-02  4.22145054e-02  2.38424409e-02\n",
      "  2.36103404e-02  7.48792291e-02  5.61516359e-02  9.97697096e-03\n",
      "  5.36289811e-03  2.03650608e-03  2.95954384e-03  5.95702650e-03\n",
      "  5.76636055e-03  6.25510886e-03  8.94126482e-03  1.88676566e-02\n",
      "  1.42620467e-02  6.20220322e-03  4.38801618e-03  6.15550485e-03\n",
      "  2.18149386e-02  2.12184284e-02  1.80902204e-03  1.91377138e-03\n",
      "  1.87762256e-03  2.85354513e-03  2.72360654e-03  3.43435537e-03\n",
      "  3.44000105e-03  3.48700769e-03  2.36092997e-03  1.87218911e-03\n",
      "  1.75371382e-03  2.27831351e-03  2.00851867e-03  1.17469637e-03\n",
      "  7.14583497e-04  6.81655598e-04  1.25801074e-03  1.11273117e-03\n",
      "  1.51064375e-03  1.53885002e-03  2.36218376e-03  3.06878216e-03\n",
      "  1.51236844e-03  1.06427213e-03  7.20939424e-04  3.31231626e-04\n",
      "  7.24617057e-05  1.34429620e-05  2.98647433e-06  1.04895229e-07]\n"
     ]
    }
   ],
   "source": [
    "import joblib\n",
    "acoustic_features = joblib.load('acoustic_features.joblib')\n",
    "print(\"First feature set:\")\n",
    "print(acoustic_features[0])"
   ]
  },
  {
   "cell_type": "code",
   "execution_count": 5,
   "metadata": {},
   "outputs": [
    {
     "name": "stdout",
     "output_type": "stream",
     "text": [
      "Unique labels: {'male_angry', 'male_happy', 'female_calm', 'male_fearful', 'female_happy', 'male_sad', 'male_calm', 'female_sad', 'female_angry', 'female_fearful'}\n"
     ]
    }
   ],
   "source": [
    "labels = joblib.load('labels.joblib')\n",
    "unique_labels = set(labels)  # Use set to find unique labels\n",
    "print(\"Unique labels:\", unique_labels)"
   ]
  },
  {
   "cell_type": "code",
   "execution_count": null,
   "metadata": {},
   "outputs": [],
   "source": []
  }
 ],
 "metadata": {
  "kernelspec": {
   "display_name": "Python 3 (ipykernel)",
   "language": "python",
   "name": "python3"
  },
  "language_info": {
   "codemirror_mode": {
    "name": "ipython",
    "version": 3
   },
   "file_extension": ".py",
   "mimetype": "text/x-python",
   "name": "python",
   "nbconvert_exporter": "python",
   "pygments_lexer": "ipython3",
   "version": "3.11.5"
  },
  "papermill": {
   "duration": 161.921255,
   "end_time": "2021-01-15T10:41:04.501856",
   "environment_variables": {},
   "exception": null,
   "input_path": "__notebook__.ipynb",
   "output_path": "__notebook__.ipynb",
   "parameters": {},
   "start_time": "2021-01-15T10:38:22.580601",
   "version": "2.1.0"
  }
 },
 "nbformat": 4,
 "nbformat_minor": 4
}
